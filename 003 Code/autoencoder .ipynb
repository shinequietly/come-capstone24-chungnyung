{
 "cells": [
  {
   "cell_type": "code",
   "execution_count": 238,
   "metadata": {},
   "outputs": [],
   "source": [
    "# importing libs\n",
    "import numpy as np\n",
    "import tensorflow as tf\n",
    "import keras\n",
    "from keras.layers import Input, Dense, GaussianNoise, Lambda, Dropout, Layer, LayerNormalization\n",
    "from keras.models import Model\n",
    "from keras import regularizers\n",
    "from keras.layers import BatchNormalization\n",
    "from keras.optimizers import Adam,SGD\n",
    "from keras import backend as K"
   ]
  },
  {
   "cell_type": "code",
   "execution_count": 239,
   "metadata": {},
   "outputs": [],
   "source": [
    "# 시드 고정\n",
    "import random\n",
    "\n",
    "seed = 42\n",
    "np.random.seed(seed)\n",
    "tf.random.set_seed(seed)\n",
    "random.seed(seed)"
   ]
  },
  {
   "cell_type": "code",
   "execution_count": 240,
   "metadata": {},
   "outputs": [
    {
     "name": "stdout",
     "output_type": "stream",
     "text": [
      "M1: 8 k1: 3 n: 1\n",
      "M1: 8 k1: 3 n: 1\n"
     ]
    }
   ],
   "source": [
    "# defining parameters\n",
    "# define (n,k) here for (n,k) autoencoder\n",
    "# n = n_channel complex numbers (so 2n real numbers)\n",
    "# k = log2(M), where M is the number of messages to encode\n",
    "M1 = 8\n",
    "M2 = 8\n",
    "\n",
    "k1 = np.log2(M1)\n",
    "k1 = int(k1)\n",
    "\n",
    "k2 = np.log2(M2)\n",
    "k2 = int(k2)\n",
    "\n",
    "n_channel = 1\n",
    "\n",
    "R1 = k1/n_channel\n",
    "R2 = k2/n_channel\n",
    "\n",
    "print ('M1:',M1,'k1:',k1,'n:',n_channel)\n",
    "print ('M1:',M2,'k1:',k2,'n:',n_channel)"
   ]
  },
  {
   "cell_type": "code",
   "execution_count": 241,
   "metadata": {},
   "outputs": [],
   "source": [
    "import numpy as np\n",
    "from commpy.channelcoding import Trellis, conv_encode, viterbi_decode\n",
    "from commpy.utilities import bitarray2dec\n",
    "\n",
    "# Trellis 생성 (m=6일 경우)\n",
    "trellis = Trellis(np.array([7]), np.array([[171, 133]]))\n",
    "tbl = 32\n",
    "\n",
    "def bitarray_to_decimal(bit_array, bits_per_symbol):\n",
    "    # 비트를 bits_per_symbol 비트씩 나누고, 각 조각을 십진수로 변환\n",
    "    n_symbols = len(bit_array) // bits_per_symbol\n",
    "    decimal_symbols = []\n",
    "    for i in range(n_symbols):\n",
    "        # 비트 조각 가져오기\n",
    "        bit_slice = bit_array[i * bits_per_symbol:(i + 1) * bits_per_symbol]\n",
    "        # 십진수로 변환\n",
    "        decimal_value = bitarray2dec(bit_slice)\n",
    "        decimal_symbols.append(decimal_value)\n",
    "    return np.array(decimal_symbols)\n",
    "\n",
    "def decimal_to_bitarray(decimal_array, bits_per_symbol):\n",
    "    bit_array = np.concatenate([np.array(list(np.binary_repr(d, width=bits_per_symbol)), dtype=int) for d in decimal_array])\n",
    "    return bit_array"
   ]
  },
  {
   "cell_type": "markdown",
   "metadata": {},
   "source": [
    "## Train data"
   ]
  },
  {
   "cell_type": "code",
   "execution_count": 242,
   "metadata": {},
   "outputs": [],
   "source": [
    "# #generating data of size N\n",
    "N = 160000\n",
    "label1 = np.random.randint(M1,size=N)\n",
    "label2 = np.random.randint(M2,size=N)"
   ]
  },
  {
   "cell_type": "code",
   "execution_count": 243,
   "metadata": {},
   "outputs": [],
   "source": [
    "# creating one hot encoded vectors\n",
    "data1 = []\n",
    "for i in label1:\n",
    "    temp = np.zeros(M1)\n",
    "    temp[i] = 1\n",
    "    data1.append(temp)\n",
    "\n",
    "data2 = []\n",
    "for i in label2:\n",
    "    temp = np.zeros(M2)\n",
    "    temp[i] = 1\n",
    "    data2.append(temp)"
   ]
  },
  {
   "cell_type": "code",
   "execution_count": 244,
   "metadata": {},
   "outputs": [
    {
     "name": "stdout",
     "output_type": "stream",
     "text": [
      "(160000, 8)\n",
      "(160000, 8)\n"
     ]
    }
   ],
   "source": [
    "data1 = np.array(data1)\n",
    "\n",
    "print (data1.shape)\n",
    "\n",
    "data2 = np.array(data2)\n",
    "\n",
    "print (data2.shape)"
   ]
  },
  {
   "cell_type": "code",
   "execution_count": 245,
   "metadata": {},
   "outputs": [],
   "source": [
    "# Functions that define the Channel. \n",
    "\n",
    "# First the encoder output must be converted to complex samples \n",
    "# Right now I am assuming n = 1 for simplicity\n",
    "\n",
    "def real_to_complex(x):\n",
    "    real = x[:,0]\n",
    "    imag = x[:,1]\n",
    "    return tf.reshape(tf.dtypes.complex(real,imag),shape=[-1,1])\n",
    "\n",
    "def complex_to_real(x):\n",
    "    real = tf.math.real(x)\n",
    "    imag = tf.math.imag(tf.dtypes.cast(x,tf.complex64))\n",
    "    real_expand = tf.expand_dims(real,-1)\n",
    "    imag_expand = tf.expand_dims(imag,-1)\n",
    "    concated = tf.concat([real_expand, imag_expand],-1)\n",
    "    return tf.reshape(concated,shape=[-1,2])"
   ]
  },
  {
   "cell_type": "code",
   "execution_count": 246,
   "metadata": {},
   "outputs": [],
   "source": [
    "def reyleigh_single_tap_train(x, SNRdB):\n",
    "    \n",
    "    EbNo=10.0**(-SNRdB/10.0)\n",
    "    \n",
    "    # Rayleigh 페이딩 채널의 실수 및 허수 부분 생성\n",
    "    h_real = 1/np.sqrt(2) * K.random_normal((n_channel,), mean=0, stddev=1)\n",
    "    h_imag = 1/np.sqrt(2) * K.random_normal((n_channel,), mean=0, stddev=1)\n",
    "    h = tf.dtypes.complex(h_real, h_imag)\n",
    "    \n",
    "    # 복합 AWGN 노이즈 생성\n",
    "    noise_real = np.sqrt(EbNo)/np.sqrt(2) * K.random_normal((n_channel,), mean=0, stddev=1)\n",
    "    noise_imag = np.sqrt(EbNo)/np.sqrt(2) * K.random_normal((n_channel,), mean=0, stddev=1)\n",
    "    noise = tf.dtypes.complex(noise_real, noise_imag)\n",
    "\n",
    "    # Rayleigh 페이딩 채널을 통해 전송된 신호\n",
    "    chan = tf.dtypes.cast(x, tf.complex64) + noise / h\n",
    "\n",
    "    return chan\n",
    "\n",
    "\n",
    "def reyleigh_single_tap(signal, EbNo, nrow, ncol):\n",
    "\n",
    "    signal = signal[:,0] + 1j * signal[:,1]\n",
    "    \n",
    "    signal = signal.reshape(nrow, ncol)\n",
    "    \n",
    "    # 복소수 채널 1과 채널 2를 한 번에 생성\n",
    "    h = (1/np.sqrt(2)) * (np.random.randn(nrow, ncol) + 1j * np.random.randn(nrow, ncol))\n",
    "\n",
    "    # 복소수 가우시안 노이즈 생성\n",
    "    noise = (np.sqrt(EbNo)/np.sqrt(2)) * (np.random.randn(nrow, ncol) + 1j * np.random.randn(nrow, ncol))\n",
    "\n",
    "    chan = signal + (noise / h)\n",
    "    \n",
    "    chan_real = np.real(chan)\n",
    "    chan_imag = np.imag(chan)\n",
    "    chan_split = np.stack((chan_real, chan_imag), axis=1).squeeze()\n",
    "\n",
    "    \n",
    "    return chan_split\n",
    "\n",
    "def awgn_single_tap_train(x, SNRdB):\n",
    "    \n",
    "    EbNo=10.0**(-SNRdB/10.0)\n",
    "    \n",
    "    # 복합 AWGN 노이즈 생성\n",
    "    noise_real = np.sqrt(EbNo)/np.sqrt(2) * K.random_normal((n_channel,), mean=0, stddev=1)\n",
    "    noise_imag = np.sqrt(EbNo)/np.sqrt(2) * K.random_normal((n_channel,), mean=0, stddev=1)\n",
    "    noise = tf.dtypes.complex(noise_real, noise_imag)\n",
    "\n",
    "    # Rayleigh 페이딩 채널을 통해 전송된 신호\n",
    "    chan = tf.dtypes.cast(x, tf.complex64) + noise\n",
    "    \n",
    "    return chan\n",
    "\n",
    "def awgn_single_tap(signal, EbNo, nrow, ncol):\n",
    "\n",
    "    signal = signal[:,0] + 1j * signal[:,1]\n",
    "    \n",
    "    signal = signal.reshape(nrow, ncol)\n",
    "    \n",
    "    # 복소수 가우시안 노이즈 생성\n",
    "    noise = (np.sqrt(EbNo)/np.sqrt(2)) * (np.random.randn(nrow, ncol) + 1j * np.random.randn(nrow, ncol))\n",
    "\n",
    "    chan = signal + noise\n",
    "    \n",
    "    chan_real = np.real(chan)\n",
    "    chan_imag = np.imag(chan)\n",
    "    chan_split = np.stack((chan_real, chan_imag), axis=1).squeeze()\n",
    "    \n",
    "    return chan_split"
   ]
  },
  {
   "cell_type": "code",
   "execution_count": 247,
   "metadata": {},
   "outputs": [],
   "source": [
    "class AveragePowerNormalize(Layer):\n",
    "    def __init__(self, **kwargs):\n",
    "        super(AveragePowerNormalize, self).__init__(**kwargs)\n",
    "\n",
    "    def call(self, inputs):\n",
    "        # 각 배치별 평균 전력을 계산\n",
    "        normalization_factor = K.sqrt(K.mean(K.square(inputs)) * 2)\n",
    "        \n",
    "        # 원본 입력을 그대로 유지하면서 정규화\n",
    "        return inputs / normalization_factor"
   ]
  },
  {
   "cell_type": "markdown",
   "metadata": {},
   "source": [
    "# AutoEncoder"
   ]
  },
  {
   "cell_type": "code",
   "execution_count": 248,
   "metadata": {},
   "outputs": [],
   "source": [
    "# Transmitter Layer\n",
    "input_signal1 = Input(shape=(M1,))\n",
    "input_signal2 = Input(shape=(M2,))\n",
    "\n",
    "encoded1 = Dense(M1, activation='relu')(input_signal1)\n",
    "encoded1_1 = Dense(2 * n_channel, activation='linear')(encoded1)\n",
    "encoded1_2 = BatchNormalization()(encoded1_1)\n",
    "# encoded1_3 = Lambda(lambda x: K.l2_normalize(x, axis=-1))(encoded1_2)\n",
    "encoded1_3 = AveragePowerNormalize()(encoded1_2)\n",
    "\n",
    "\n",
    "encoded2 = Dense(M2, activation='relu')(input_signal2)\n",
    "encoded2_1 = Dense(2 * n_channel, activation='linear')(encoded2)\n",
    "encoded2_2 = BatchNormalization()(encoded2_1)\n",
    "# encoded2_3 = Lambda(lambda x: K.l2_normalize(x, axis=-1))(encoded2_2)\n",
    "encoded2_3 = AveragePowerNormalize()(encoded2_2)\n",
    "\n",
    "# Reyleigh Channel Layer\n",
    "SNRdB = 23\n",
    "channel_in1 = Lambda(real_to_complex)(encoded1_3)\n",
    "channel_in2 = Lambda(real_to_complex)(encoded2_3)\n",
    "channel1 = awgn_single_tap_train(channel_in1, SNRdB)\n",
    "channel2 = awgn_single_tap_train(channel_in2, SNRdB)\n",
    "channel_out1 = Lambda(complex_to_real)(channel1)\n",
    "channel_out2 = Lambda(complex_to_real)(channel2)\n",
    "\n",
    "# Reciever Layer\n",
    "decoded1 = Dense(M1, activation='relu')(channel_out1)\n",
    "decoded1_1 = Dense(M1, activation='softmax')(decoded1)\n",
    "\n",
    "# Reciever Layer\n",
    "decoded2 = Dense(M2, activation='relu')(channel_out2)\n",
    "decoded2_1 = Dense(M2, activation='softmax')(decoded2)\n",
    "\n",
    "# 모델 생성 및 컴파일\n",
    "autoencoder = Model([input_signal1, input_signal2], [decoded1_1, decoded2_1])\n",
    "adam = Adam(learning_rate=0.00001)\n",
    "autoencoder.compile(optimizer=adam, loss='categorical_crossentropy')\n"
   ]
  },
  {
   "cell_type": "code",
   "execution_count": 249,
   "metadata": {},
   "outputs": [
    {
     "name": "stdout",
     "output_type": "stream",
     "text": [
      "Model: \"model_35\"\n",
      "__________________________________________________________________________________________________\n",
      " Layer (type)                Output Shape                 Param #   Connected to                  \n",
      "==================================================================================================\n",
      " input_37 (InputLayer)       [(None, 8)]                  0         []                            \n",
      "                                                                                                  \n",
      " input_38 (InputLayer)       [(None, 8)]                  0         []                            \n",
      "                                                                                                  \n",
      " dense_96 (Dense)            (None, 8)                    72        ['input_37[0][0]']            \n",
      "                                                                                                  \n",
      " dense_98 (Dense)            (None, 8)                    72        ['input_38[0][0]']            \n",
      "                                                                                                  \n",
      " dense_97 (Dense)            (None, 2)                    18        ['dense_96[0][0]']            \n",
      "                                                                                                  \n",
      " dense_99 (Dense)            (None, 2)                    18        ['dense_98[0][0]']            \n",
      "                                                                                                  \n",
      " batch_normalization_24 (Ba  (None, 2)                    8         ['dense_97[0][0]']            \n",
      " tchNormalization)                                                                                \n",
      "                                                                                                  \n",
      " batch_normalization_25 (Ba  (None, 2)                    8         ['dense_99[0][0]']            \n",
      " tchNormalization)                                                                                \n",
      "                                                                                                  \n",
      " average_power_normalize_24  (None, 2)                    0         ['batch_normalization_24[0][0]\n",
      "  (AveragePowerNormalize)                                           ']                            \n",
      "                                                                                                  \n",
      " lambda_48 (Lambda)          (None, 2)                    0         ['batch_normalization_25[0][0]\n",
      "                                                                    ']                            \n",
      "                                                                                                  \n",
      " lambda_49 (Lambda)          (None, 1)                    0         ['average_power_normalize_24[0\n",
      "                                                                    ][0]']                        \n",
      "                                                                                                  \n",
      " lambda_50 (Lambda)          (None, 1)                    0         ['lambda_48[0][0]']           \n",
      "                                                                                                  \n",
      " tf.cast_24 (TFOpLambda)     (None, 1)                    0         ['lambda_49[0][0]']           \n",
      "                                                                                                  \n",
      " tf.cast_25 (TFOpLambda)     (None, 1)                    0         ['lambda_50[0][0]']           \n",
      "                                                                                                  \n",
      " tf.__operators__.add_24 (T  (None, 1)                    0         ['tf.cast_24[0][0]']          \n",
      " FOpLambda)                                                                                       \n",
      "                                                                                                  \n",
      " tf.__operators__.add_25 (T  (None, 1)                    0         ['tf.cast_25[0][0]']          \n",
      " FOpLambda)                                                                                       \n",
      "                                                                                                  \n",
      " lambda_51 (Lambda)          (None, 2)                    0         ['tf.__operators__.add_24[0][0\n",
      "                                                                    ]']                           \n",
      "                                                                                                  \n",
      " lambda_52 (Lambda)          (None, 2)                    0         ['tf.__operators__.add_25[0][0\n",
      "                                                                    ]']                           \n",
      "                                                                                                  \n",
      " dense_100 (Dense)           (None, 8)                    24        ['lambda_51[0][0]']           \n",
      "                                                                                                  \n",
      " dense_102 (Dense)           (None, 8)                    24        ['lambda_52[0][0]']           \n",
      "                                                                                                  \n",
      " dense_101 (Dense)           (None, 8)                    72        ['dense_100[0][0]']           \n",
      "                                                                                                  \n",
      " dense_103 (Dense)           (None, 8)                    72        ['dense_102[0][0]']           \n",
      "                                                                                                  \n",
      "==================================================================================================\n",
      "Total params: 388 (1.52 KB)\n",
      "Trainable params: 380 (1.48 KB)\n",
      "Non-trainable params: 8 (32.00 Byte)\n",
      "__________________________________________________________________________________________________\n",
      "None\n"
     ]
    }
   ],
   "source": [
    "print(autoencoder.summary())"
   ]
  },
  {
   "cell_type": "markdown",
   "metadata": {},
   "source": [
    "# TRAIN"
   ]
  },
  {
   "cell_type": "code",
   "execution_count": 250,
   "metadata": {},
   "outputs": [
    {
     "name": "stdout",
     "output_type": "stream",
     "text": [
      "Epoch 1/45\n",
      "5000/5000 [==============================] - 5s 779us/step - loss: 3.9562 - dense_101_loss: 1.8816 - dense_103_loss: 2.0746\n",
      "Epoch 2/45\n",
      "5000/5000 [==============================] - 4s 770us/step - loss: 3.6834 - dense_101_loss: 1.7442 - dense_103_loss: 1.9391\n",
      "Epoch 3/45\n",
      "5000/5000 [==============================] - 4s 751us/step - loss: 3.4486 - dense_101_loss: 1.6307 - dense_103_loss: 1.8179\n",
      "Epoch 4/45\n",
      "5000/5000 [==============================] - 4s 769us/step - loss: 3.2320 - dense_101_loss: 1.5242 - dense_103_loss: 1.7078\n",
      "Epoch 5/45\n",
      "5000/5000 [==============================] - 4s 771us/step - loss: 3.0250 - dense_101_loss: 1.4227 - dense_103_loss: 1.6024\n",
      "Epoch 6/45\n",
      "5000/5000 [==============================] - 4s 769us/step - loss: 2.8217 - dense_101_loss: 1.3255 - dense_103_loss: 1.4962\n",
      "Epoch 7/45\n",
      "5000/5000 [==============================] - 4s 764us/step - loss: 2.6237 - dense_101_loss: 1.2339 - dense_103_loss: 1.3897\n",
      "Epoch 8/45\n",
      "5000/5000 [==============================] - 4s 768us/step - loss: 2.4324 - dense_101_loss: 1.1476 - dense_103_loss: 1.2849\n",
      "Epoch 9/45\n",
      "5000/5000 [==============================] - 4s 769us/step - loss: 2.2485 - dense_101_loss: 1.0636 - dense_103_loss: 1.1849\n",
      "Epoch 10/45\n",
      "5000/5000 [==============================] - 4s 767us/step - loss: 2.0762 - dense_101_loss: 0.9858 - dense_103_loss: 1.0904\n",
      "Epoch 11/45\n",
      "5000/5000 [==============================] - 4s 767us/step - loss: 1.9159 - dense_101_loss: 0.9132 - dense_103_loss: 1.0026\n",
      "Epoch 12/45\n",
      "5000/5000 [==============================] - 4s 767us/step - loss: 1.7695 - dense_101_loss: 0.8465 - dense_103_loss: 0.9230\n",
      "Epoch 13/45\n",
      "5000/5000 [==============================] - 4s 769us/step - loss: 1.6340 - dense_101_loss: 0.7839 - dense_103_loss: 0.8501\n",
      "Epoch 14/45\n",
      "5000/5000 [==============================] - 4s 766us/step - loss: 1.5121 - dense_101_loss: 0.7274 - dense_103_loss: 0.7847\n",
      "Epoch 15/45\n",
      "5000/5000 [==============================] - 4s 771us/step - loss: 1.4023 - dense_101_loss: 0.6754 - dense_103_loss: 0.7269\n",
      "Epoch 16/45\n",
      "5000/5000 [==============================] - 4s 767us/step - loss: 1.3010 - dense_101_loss: 0.6285 - dense_103_loss: 0.6725\n",
      "Epoch 17/45\n",
      "5000/5000 [==============================] - 4s 768us/step - loss: 1.2084 - dense_101_loss: 0.5839 - dense_103_loss: 0.6245\n",
      "Epoch 18/45\n",
      "5000/5000 [==============================] - 4s 765us/step - loss: 1.1216 - dense_101_loss: 0.5414 - dense_103_loss: 0.5802\n",
      "Epoch 19/45\n",
      "5000/5000 [==============================] - 4s 775us/step - loss: 1.0408 - dense_101_loss: 0.5017 - dense_103_loss: 0.5391\n",
      "Epoch 20/45\n",
      "5000/5000 [==============================] - 4s 786us/step - loss: 0.9679 - dense_101_loss: 0.4664 - dense_103_loss: 0.5015\n",
      "Epoch 21/45\n",
      "5000/5000 [==============================] - 4s 766us/step - loss: 0.8941 - dense_101_loss: 0.4295 - dense_103_loss: 0.4645\n",
      "Epoch 22/45\n",
      "5000/5000 [==============================] - 4s 790us/step - loss: 0.8276 - dense_101_loss: 0.3956 - dense_103_loss: 0.4320\n",
      "Epoch 23/45\n",
      "5000/5000 [==============================] - 4s 789us/step - loss: 0.7632 - dense_101_loss: 0.3626 - dense_103_loss: 0.4007\n",
      "Epoch 24/45\n",
      "5000/5000 [==============================] - 4s 783us/step - loss: 0.7006 - dense_101_loss: 0.3304 - dense_103_loss: 0.3702\n",
      "Epoch 25/45\n",
      "5000/5000 [==============================] - 4s 763us/step - loss: 0.6465 - dense_101_loss: 0.3031 - dense_103_loss: 0.3434\n",
      "Epoch 26/45\n",
      "5000/5000 [==============================] - 4s 766us/step - loss: 0.5947 - dense_101_loss: 0.2756 - dense_103_loss: 0.3191\n",
      "Epoch 27/45\n",
      "5000/5000 [==============================] - 4s 778us/step - loss: 0.5485 - dense_101_loss: 0.2526 - dense_103_loss: 0.2959\n",
      "Epoch 28/45\n",
      "5000/5000 [==============================] - 4s 775us/step - loss: 0.5064 - dense_101_loss: 0.2310 - dense_103_loss: 0.2754\n",
      "Epoch 29/45\n",
      "5000/5000 [==============================] - 4s 766us/step - loss: 0.4643 - dense_101_loss: 0.2094 - dense_103_loss: 0.2549\n",
      "Epoch 30/45\n",
      "5000/5000 [==============================] - 4s 776us/step - loss: 0.4292 - dense_101_loss: 0.1916 - dense_103_loss: 0.2376\n",
      "Epoch 31/45\n",
      "5000/5000 [==============================] - 4s 775us/step - loss: 0.3956 - dense_101_loss: 0.1745 - dense_103_loss: 0.2211\n",
      "Epoch 32/45\n",
      "5000/5000 [==============================] - 4s 788us/step - loss: 0.3649 - dense_101_loss: 0.1590 - dense_103_loss: 0.2059\n",
      "Epoch 33/45\n",
      "5000/5000 [==============================] - 4s 772us/step - loss: 0.3374 - dense_101_loss: 0.1457 - dense_103_loss: 0.1917\n",
      "Epoch 34/45\n",
      "5000/5000 [==============================] - 4s 793us/step - loss: 0.3152 - dense_101_loss: 0.1343 - dense_103_loss: 0.1809\n",
      "Epoch 35/45\n",
      "5000/5000 [==============================] - 4s 779us/step - loss: 0.2926 - dense_101_loss: 0.1240 - dense_103_loss: 0.1686\n",
      "Epoch 36/45\n",
      "5000/5000 [==============================] - 4s 775us/step - loss: 0.2707 - dense_101_loss: 0.1126 - dense_103_loss: 0.1581\n",
      "Epoch 37/45\n",
      "5000/5000 [==============================] - 4s 770us/step - loss: 0.2522 - dense_101_loss: 0.1030 - dense_103_loss: 0.1492\n",
      "Epoch 38/45\n",
      "5000/5000 [==============================] - 4s 800us/step - loss: 0.2357 - dense_101_loss: 0.0952 - dense_103_loss: 0.1405\n",
      "Epoch 39/45\n",
      "5000/5000 [==============================] - 4s 776us/step - loss: 0.2216 - dense_101_loss: 0.0877 - dense_103_loss: 0.1339\n",
      "Epoch 40/45\n",
      "5000/5000 [==============================] - 4s 761us/step - loss: 0.2090 - dense_101_loss: 0.0819 - dense_103_loss: 0.1271\n",
      "Epoch 41/45\n",
      "5000/5000 [==============================] - 4s 769us/step - loss: 0.1956 - dense_101_loss: 0.0753 - dense_103_loss: 0.1203\n",
      "Epoch 42/45\n",
      "5000/5000 [==============================] - 4s 770us/step - loss: 0.1842 - dense_101_loss: 0.0715 - dense_103_loss: 0.1127\n",
      "Epoch 43/45\n",
      "5000/5000 [==============================] - 4s 783us/step - loss: 0.1743 - dense_101_loss: 0.0667 - dense_103_loss: 0.1076\n",
      "Epoch 44/45\n",
      "5000/5000 [==============================] - 4s 768us/step - loss: 0.1652 - dense_101_loss: 0.0636 - dense_103_loss: 0.1016\n",
      "Epoch 45/45\n",
      "5000/5000 [==============================] - 4s 777us/step - loss: 0.1537 - dense_101_loss: 0.0568 - dense_103_loss: 0.0969\n"
     ]
    },
    {
     "data": {
      "text/plain": [
       "<keras.src.callbacks.History at 0x22a3c6e8a00>"
      ]
     },
     "execution_count": 250,
     "metadata": {},
     "output_type": "execute_result"
    }
   ],
   "source": [
    "# traning auto encoder\n",
    "autoencoder.fit([data1, data2], [data1, data2],\n",
    "                epochs=45,\n",
    "                batch_size=32)"
   ]
  },
  {
   "cell_type": "markdown",
   "metadata": {},
   "source": [
    "# TEST"
   ]
  },
  {
   "cell_type": "markdown",
   "metadata": {},
   "source": [
    "### Encoder"
   ]
  },
  {
   "cell_type": "code",
   "execution_count": 251,
   "metadata": {},
   "outputs": [],
   "source": [
    "# making encoder from full autoencoder\n",
    "encoder = Model([input_signal1, input_signal2], [encoded1_3, encoded2_3])"
   ]
  },
  {
   "cell_type": "markdown",
   "metadata": {},
   "source": [
    "### Decoder"
   ]
  },
  {
   "cell_type": "code",
   "execution_count": 252,
   "metadata": {},
   "outputs": [],
   "source": [
    "# making decoder from full autoencoder\n",
    "encoded_input1 = Input(shape=(2 * n_channel,))\n",
    "encoded_input2 = Input(shape=(2 * n_channel,))\n",
    "\n",
    "deco1 = autoencoder.layers[-4](encoded_input1)\n",
    "deco1 = autoencoder.layers[-2](deco1)\n",
    "\n",
    "deco2 = autoencoder.layers[-3](encoded_input2)\n",
    "deco2 = autoencoder.layers[-1](deco2)\n",
    "\n",
    "decoder = Model([encoded_input1, encoded_input2], [deco1, deco2])"
   ]
  },
  {
   "cell_type": "markdown",
   "metadata": {},
   "source": [
    "### Convolution Code test data"
   ]
  },
  {
   "cell_type": "code",
   "execution_count": 254,
   "metadata": {},
   "outputs": [],
   "source": [
    "N = 50000\n",
    "\n",
    "# test data conv1\n",
    "log2M1 = int(np.log2(M1))\n",
    "test_userBit1 = np.random.randint(0, 2, N * log2M1)\n",
    "\n",
    "test_userBit1_Conv = conv_encode(test_userBit1, trellis)\n",
    "\n",
    "test_userBit1_Conv = test_userBit1_Conv[:2 * len(test_userBit1)]\n",
    "\n",
    "test_userData1 = bitarray_to_decimal(test_userBit1_Conv, log2M1)  # 부호화된 심볼을 십진수로 변환\n",
    "\n",
    "test_conv_data1 = []\n",
    "\n",
    "for i in test_userData1:\n",
    "    temp = np.zeros(M1)\n",
    "    temp[i] = 1\n",
    "    test_conv_data1.append(temp)\n",
    "\n",
    "test_conv_data1 = np.array(test_conv_data1)\n",
    "\n",
    "\n",
    "# test data conv2\n",
    "log2M2 = int(np.log2(M2))\n",
    "test_userBit2 = np.random.randint(0, 2, N * log2M2)\n",
    "\n",
    "test_userBit2_Conv = conv_encode(test_userBit2, trellis)\n",
    "\n",
    "test_userBit2_Conv = test_userBit2_Conv[:2 * len(test_userBit2)]\n",
    "\n",
    "test_userData2 = bitarray_to_decimal(test_userBit2_Conv, log2M2)  # 부호화된 심볼을 십진수로 변환\n",
    "\n",
    "test_conv_data2 = []\n",
    "\n",
    "for i in test_userData2:\n",
    "    temp = np.zeros(M2)\n",
    "    temp[i] = 1\n",
    "    test_conv_data2.append(temp)\n",
    "\n",
    "test_conv_data2 = np.array(test_conv_data2)"
   ]
  },
  {
   "cell_type": "markdown",
   "metadata": {},
   "source": [
    "### test data"
   ]
  },
  {
   "cell_type": "code",
   "execution_count": 255,
   "metadata": {},
   "outputs": [],
   "source": [
    "# generating data for checking BER\n",
    "# if you're not using t-sne for visulation than set N to 70,000 for better result \n",
    "# for t-sne use less N like N = 1500\n",
    "\n",
    "# test data1\n",
    "test_label1 = np.random.randint(M1,size=N)\n",
    "test_data1 = []\n",
    "\n",
    "for i in test_label1:\n",
    "    temp = np.zeros(M1)\n",
    "    temp[i] = 1\n",
    "    test_data1.append(temp)\n",
    "\n",
    "test_data1 = np.array(test_data1)\n",
    "\n",
    "# test data2\n",
    "test_label2 = np.random.randint(M2,size=N)\n",
    "test_data2 = []\n",
    "\n",
    "for i in test_label2:\n",
    "    temp = np.zeros(M2)\n",
    "    temp[i] = 1\n",
    "    test_data2.append(temp)\n",
    "\n",
    "test_data2 = np.array(test_data2)"
   ]
  },
  {
   "cell_type": "code",
   "execution_count": 258,
   "metadata": {},
   "outputs": [
    {
     "name": "stdout",
     "output_type": "stream",
     "text": [
      "1563/1563 [==============================] - 1s 452us/step\n"
     ]
    },
    {
     "data": {
      "image/png": "[encoded data removed]",
      "text/plain": [
       "<Figure size 1000x400 with 2 Axes>"
      ]
     },
     "metadata": {},
     "output_type": "display_data"
    }
   ],
   "source": [
    "import matplotlib.pyplot as plt\n",
    "\n",
    "constellation = Model([input_signal1, input_signal2], [encoded1_2, encoded2_2])\n",
    "\n",
    "encoded_signal1, encoded_signal2  = constellation.predict([test_data1, test_data2])\n",
    "\n",
    "plt.figure(figsize=(10, 4))\n",
    "plt.subplot(1, 2, 1)\n",
    "plt.scatter(encoded_signal1[:,0],encoded_signal1[:,1], color = 'blue')\n",
    "plt.title(\"Encoder1 8-QAM Constellation\")\n",
    "plt.grid()\n",
    "plt.axis((-2.5, 2.5, -2.5, 2.5))\n",
    "plt.subplot(1, 2, 2)\n",
    "plt.scatter(encoded_signal2[:,0],encoded_signal2[:,1], color = 'blue')\n",
    "plt.axis((-2.5, 2.5, -2.5, 2.5))\n",
    "plt.title(\"Encoder2 4-QAM Constellation\")\n",
    "plt.grid()"
   ]
  },
  {
   "cell_type": "code",
   "execution_count": 235,
   "metadata": {},
   "outputs": [
    {
     "name": "stdout",
     "output_type": "stream",
     "text": [
      "156250/156250 [==============================] - 96s 615us/step\n",
      "156250/156250 [==============================] - 92s 589us/step\n",
      "Encoded Signal 1 Average Power: 1.0\n",
      "Encoded Signal 2 Average Power: 1.0\n"
     ]
    },
    {
     "data": {
      "image/png": "[encoded data removed]",
      "text/plain": [
       "<Figure size 1000x500 with 2 Axes>"
      ]
     },
     "metadata": {},
     "output_type": "display_data"
    }
   ],
   "source": [
    "SNRdB = 23\n",
    "EbNo = 10.0**(-SNRdB / 10.0)\n",
    "# Predict encoded signal\n",
    "encoded_signal1, encoded_signal2  = encoder.predict([test_data1, test_data2])\n",
    "\n",
    "# Pass through Rayleigh channel\n",
    "final_signal1 = reyleigh_single_tap(encoded_signal1, EbNo, N, n_channel)\n",
    "final_signal2 = reyleigh_single_tap(encoded_signal2, EbNo, N, n_channel)\n",
    "\n",
    "# Predict the output\n",
    "pred_final_signal1, pred_final_signal2 = decoder.predict([final_signal1, final_signal2])\n",
    "\n",
    "# 평균 전력 확인\n",
    "power1 = np.mean(np.sum(np.abs(encoded_signal1)**2, axis=1))\n",
    "power2 = np.mean(np.sum(np.abs(encoded_signal2)**2, axis=1))\n",
    "print('Encoded Signal 1 Average Power:', power1)\n",
    "print('Encoded Signal 2 Average Power:', power2)\n",
    "\n",
    "import matplotlib.pyplot as plt\n",
    "\n",
    "plt.figure(figsize=(10, 5))\n",
    "plt.subplot(1, 2, 1)\n",
    "plt.scatter(final_signal1[:,0], final_signal1[:,1], color = 'blue')\n",
    "plt.scatter(encoded_signal1[:,0],encoded_signal1[:,1], color = 'red')\n",
    "plt.grid()\n",
    "plt.axis((-2.5, 2.5, -2.5, 2.5))\n",
    "plt.subplot(1, 2, 2)\n",
    "plt.scatter(final_signal2[:,0], final_signal2[:,1], color = 'blue',)\n",
    "plt.scatter(encoded_signal2[:,0],encoded_signal2[:,1], color = 'red')\n",
    "plt.axis((-2.5, 2.5, -2.5, 2.5))\n",
    "plt.grid()"
   ]
  },
  {
   "cell_type": "code",
   "execution_count": 236,
   "metadata": {},
   "outputs": [],
   "source": [
    "def frange(x, y, jump):\n",
    "  while x < y:\n",
    "    yield x\n",
    "    x += jump"
   ]
  },
  {
   "cell_type": "markdown",
   "metadata": {},
   "source": [
    "## Convolution Simulation"
   ]
  },
  {
   "cell_type": "code",
   "execution_count": 237,
   "metadata": {},
   "outputs": [
    {
     "name": "stdout",
     "output_type": "stream",
     "text": [
      "312500/312500 [==============================] - 193s 617us/step\n",
      "312500/312500 [==============================] - 185s 592us/step\n"
     ]
    },
    {
     "ename": "KeyboardInterrupt",
     "evalue": "",
     "output_type": "error",
     "traceback": [
      "\u001b[1;31m---------------------------------------------------------------------------\u001b[0m",
      "\u001b[1;31mKeyboardInterrupt\u001b[0m                         Traceback (most recent call last)",
      "Cell \u001b[1;32mIn[237], line 32\u001b[0m\n\u001b[0;32m     29\u001b[0m pred_output_bits1 \u001b[38;5;241m=\u001b[39m decimal_to_bitarray(pred_output1, log2M1)\n\u001b[0;32m     30\u001b[0m pred_output_bits2 \u001b[38;5;241m=\u001b[39m decimal_to_bitarray(pred_output2, log2M2)\n\u001b[1;32m---> 32\u001b[0m pred_output_bits1 \u001b[38;5;241m=\u001b[39m \u001b[43mviterbi_decode\u001b[49m\u001b[43m(\u001b[49m\u001b[43mpred_output_bits1\u001b[49m\u001b[43m,\u001b[49m\u001b[43m \u001b[49m\u001b[43mtrellis\u001b[49m\u001b[43m,\u001b[49m\u001b[43m \u001b[49m\u001b[43mtb_depth\u001b[49m\u001b[38;5;241;43m=\u001b[39;49m\u001b[43mtbl\u001b[49m\u001b[43m)\u001b[49m\n\u001b[0;32m     33\u001b[0m pred_output_bits2 \u001b[38;5;241m=\u001b[39m viterbi_decode(pred_output_bits2, trellis, tb_depth\u001b[38;5;241m=\u001b[39mtbl)\n\u001b[0;32m     35\u001b[0m \u001b[38;5;66;03m# Calculate bit errors\u001b[39;00m\n",
      "File \u001b[1;32mc:\\Users\\user\\anaconda3\\envs\\zero_jelly\\lib\\site-packages\\commpy\\channelcoding\\convcode.py:736\u001b[0m, in \u001b[0;36mviterbi_decode\u001b[1;34m(coded_bits, trellis, tb_depth, decoding_type)\u001b[0m\n\u001b[0;32m    733\u001b[0m     \u001b[38;5;28;01melse\u001b[39;00m:\n\u001b[0;32m    734\u001b[0m         \u001b[38;5;28;01mraise\u001b[39;00m \u001b[38;5;167;01mValueError\u001b[39;00m(\u001b[38;5;124m'\u001b[39m\u001b[38;5;124mThe available decoding types are \u001b[39m\u001b[38;5;124m\"\u001b[39m\u001b[38;5;124mhard\u001b[39m\u001b[38;5;124m\"\u001b[39m\u001b[38;5;124m, \u001b[39m\u001b[38;5;124m\"\u001b[39m\u001b[38;5;124msoft\u001b[39m\u001b[38;5;124m\"\u001b[39m\u001b[38;5;124m and \u001b[39m\u001b[38;5;124m\"\u001b[39m\u001b[38;5;124munquantized\u001b[39m\u001b[38;5;124m'\u001b[39m)\n\u001b[1;32m--> 736\u001b[0m \u001b[43m_acs_traceback\u001b[49m\u001b[43m(\u001b[49m\u001b[43mr_codeword\u001b[49m\u001b[43m,\u001b[49m\u001b[43m \u001b[49m\u001b[43mtrellis\u001b[49m\u001b[43m,\u001b[49m\u001b[43m \u001b[49m\u001b[43mdecoding_type\u001b[49m\u001b[43m,\u001b[49m\u001b[43m \u001b[49m\u001b[43mpath_metrics\u001b[49m\u001b[43m,\u001b[49m\u001b[43m \u001b[49m\u001b[43mpaths\u001b[49m\u001b[43m,\u001b[49m\n\u001b[0;32m    737\u001b[0m \u001b[43m        \u001b[49m\u001b[43mdecoded_symbols\u001b[49m\u001b[43m,\u001b[49m\u001b[43m \u001b[49m\u001b[43mdecoded_bits\u001b[49m\u001b[43m,\u001b[49m\u001b[43m \u001b[49m\u001b[43mtb_count\u001b[49m\u001b[43m,\u001b[49m\u001b[43m \u001b[49m\u001b[43mt\u001b[49m\u001b[43m,\u001b[49m\u001b[43m \u001b[49m\u001b[43mcount\u001b[49m\u001b[43m,\u001b[49m\u001b[43m \u001b[49m\u001b[43mtb_depth\u001b[49m\u001b[43m,\u001b[49m\n\u001b[0;32m    738\u001b[0m \u001b[43m        \u001b[49m\u001b[43mcurrent_number_states\u001b[49m\u001b[43m)\u001b[49m\n\u001b[0;32m    740\u001b[0m \u001b[38;5;28;01mif\u001b[39;00m t \u001b[38;5;241m>\u001b[39m\u001b[38;5;241m=\u001b[39m tb_depth \u001b[38;5;241m-\u001b[39m \u001b[38;5;241m1\u001b[39m:\n\u001b[0;32m    741\u001b[0m     tb_count \u001b[38;5;241m=\u001b[39m tb_depth \u001b[38;5;241m-\u001b[39m \u001b[38;5;241m1\u001b[39m\n",
      "File \u001b[1;32mc:\\Users\\user\\anaconda3\\envs\\zero_jelly\\lib\\site-packages\\commpy\\channelcoding\\convcode.py:622\u001b[0m, in \u001b[0;36m_acs_traceback\u001b[1;34m(r_codeword, trellis, decoding_type, path_metrics, paths, decoded_symbols, decoded_bits, tb_count, t, count, tb_depth, current_number_states)\u001b[0m\n\u001b[0;32m    620\u001b[0m \u001b[38;5;66;03m# Using the output table, find the ideal codeword\u001b[39;00m\n\u001b[0;32m    621\u001b[0m i_codeword \u001b[38;5;241m=\u001b[39m output_table[previous_state, previous_input]\n\u001b[1;32m--> 622\u001b[0m i_codeword_array \u001b[38;5;241m=\u001b[39m \u001b[43mdec2bitarray\u001b[49m\u001b[43m(\u001b[49m\u001b[43mi_codeword\u001b[49m\u001b[43m,\u001b[49m\u001b[43m \u001b[49m\u001b[43mn\u001b[49m\u001b[43m)\u001b[49m\n\u001b[0;32m    624\u001b[0m \u001b[38;5;66;03m# Compute Branch Metrics\u001b[39;00m\n\u001b[0;32m    625\u001b[0m branch_metric \u001b[38;5;241m=\u001b[39m _compute_branch_metrics(decoding_type, \u001b[38;5;28mtuple\u001b[39m(r_codeword), \u001b[38;5;28mtuple\u001b[39m(i_codeword_array))\n",
      "File \u001b[1;32mc:\\Users\\user\\anaconda3\\envs\\zero_jelly\\lib\\site-packages\\commpy\\utilities.py:51\u001b[0m, in \u001b[0;36mdec2bitarray\u001b[1;34m(in_number, bit_width)\u001b[0m\n\u001b[0;32m     31\u001b[0m \u001b[38;5;250m\u001b[39m\u001b[38;5;124;03m\"\"\"\u001b[39;00m\n\u001b[0;32m     32\u001b[0m \u001b[38;5;124;03mConverts a positive integer or an array-like of positive integers to NumPy array of the specified size containing\u001b[39;00m\n\u001b[0;32m     33\u001b[0m \u001b[38;5;124;03mbits (0 and 1).\u001b[39;00m\n\u001b[1;32m   (...)\u001b[0m\n\u001b[0;32m     47\u001b[0m \n\u001b[0;32m     48\u001b[0m \u001b[38;5;124;03m\"\"\"\u001b[39;00m\n\u001b[0;32m     50\u001b[0m \u001b[38;5;28;01mif\u001b[39;00m \u001b[38;5;28misinstance\u001b[39m(in_number, (np\u001b[38;5;241m.\u001b[39minteger, \u001b[38;5;28mint\u001b[39m)):\n\u001b[1;32m---> 51\u001b[0m     \u001b[38;5;28;01mreturn\u001b[39;00m \u001b[43mdecimal2bitarray\u001b[49m\u001b[43m(\u001b[49m\u001b[43min_number\u001b[49m\u001b[43m,\u001b[49m\u001b[43m \u001b[49m\u001b[43mbit_width\u001b[49m\u001b[43m)\u001b[49m\u001b[38;5;241;43m.\u001b[39;49m\u001b[43mcopy\u001b[49m\u001b[43m(\u001b[49m\u001b[43m)\u001b[49m\n\u001b[0;32m     52\u001b[0m result \u001b[38;5;241m=\u001b[39m np\u001b[38;5;241m.\u001b[39mzeros(bit_width \u001b[38;5;241m*\u001b[39m \u001b[38;5;28mlen\u001b[39m(in_number), np\u001b[38;5;241m.\u001b[39mint8)\n\u001b[0;32m     53\u001b[0m \u001b[38;5;28;01mfor\u001b[39;00m pox, number \u001b[38;5;129;01min\u001b[39;00m \u001b[38;5;28menumerate\u001b[39m(in_number):\n",
      "\u001b[1;31mKeyboardInterrupt\u001b[0m: "
     ]
    }
   ],
   "source": [
    "import numpy as np\n",
    "\n",
    "# BER Calculation\n",
    "EbNodB_range = list(frange(0, 21, 2))\n",
    "ber1_conv = [None] * len(EbNodB_range)\n",
    "ber2_conv = [None] * len(EbNodB_range)\n",
    "num_bits1 = int(np.log2(M1))\n",
    "num_bits2 = int(np.log2(M2))\n",
    "conv_R = trellis.k / trellis.n\n",
    "\n",
    "for n in range(len(EbNodB_range)):\n",
    "    EbNo = 10.0**(-EbNodB_range[n] / 10.0)\n",
    "    nn = N\n",
    "\n",
    "    # Predict encoded signal\n",
    "    encoded_signal1, encoded_signal2 = encoder.predict([test_conv_data1, test_conv_data2])\n",
    "    \n",
    "    # Pass through Rayleigh channel\n",
    "    final_signal1 = reyleigh_single_tap(encoded_signal1, EbNo, int(nn / conv_R), n_channel)\n",
    "    final_signal2 = reyleigh_single_tap(encoded_signal2, EbNo, int(nn / conv_R), n_channel)\n",
    "\n",
    "    # Predict the output\n",
    "    pred_final_signal1, pred_final_signal2 = decoder.predict([final_signal1, final_signal2])\n",
    "\n",
    "    # Convert predictions to symbol indices (0 to M-1)\n",
    "    pred_output1 = np.argmax(pred_final_signal1, axis=1)\n",
    "    pred_output2 = np.argmax(pred_final_signal2, axis=1)\n",
    "\n",
    "    pred_output_bits1 = decimal_to_bitarray(pred_output1, log2M1)\n",
    "    pred_output_bits2 = decimal_to_bitarray(pred_output2, log2M2)\n",
    "    \n",
    "    pred_output_bits1 = viterbi_decode(pred_output_bits1, trellis, tb_depth=tbl)\n",
    "    pred_output_bits2 = viterbi_decode(pred_output_bits2, trellis, tb_depth=tbl)\n",
    "\n",
    "    # Calculate bit errors\n",
    "    bit_errors1 = np.sum(pred_output_bits1 != test_userBit1)\n",
    "    bit_errors2 = np.sum(pred_output_bits2 != test_userBit2)\n",
    "\n",
    "    # Calculate BER\n",
    "    ber1_conv[n] = bit_errors1 / (nn * num_bits1)\n",
    "    ber2_conv[n] = bit_errors2 / (nn * num_bits2)\n",
    "\n",
    "    print('SNR:', EbNodB_range[n], 'BER:', ber1_conv[n], ber2_conv[n])"
   ]
  },
  {
   "cell_type": "markdown",
   "metadata": {},
   "source": [
    "## Simulation"
   ]
  },
  {
   "cell_type": "code",
   "execution_count": 174,
   "metadata": {},
   "outputs": [
    {
     "name": "stdout",
     "output_type": "stream",
     "text": [
      "3125/3125 [==============================] - 1s 429us/step\n",
      "3125/3125 [==============================] - 1s 412us/step\n",
      "SNR: 0 BER: 0.3277966666666667 0.22029\n",
      "3125/3125 [==============================] - 1s 430us/step\n",
      "3125/3125 [==============================] - 1s 417us/step\n",
      "SNR: 2 BER: 0.2833133333333333 0.177545\n",
      "3125/3125 [==============================] - 1s 442us/step\n",
      "3125/3125 [==============================] - 1s 415us/step\n",
      "SNR: 4 BER: 0.23927333333333334 0.136685\n",
      "3125/3125 [==============================] - 1s 433us/step\n",
      "3125/3125 [==============================] - 1s 411us/step\n",
      "SNR: 6 BER: 0.18997 0.09986\n",
      "3125/3125 [==============================] - 2s 503us/step\n",
      "3125/3125 [==============================] - 1s 412us/step\n",
      "SNR: 8 BER: 0.14717 0.07003\n",
      "3125/3125 [==============================] - 1s 431us/step\n",
      "3125/3125 [==============================] - 1s 408us/step\n",
      "SNR: 10 BER: 0.10656 0.047885\n",
      "3125/3125 [==============================] - 1s 426us/step\n",
      "3125/3125 [==============================] - 1s 407us/step\n",
      "SNR: 12 BER: 0.07688666666666667 0.03234\n",
      "3125/3125 [==============================] - 1s 440us/step\n",
      "3125/3125 [==============================] - 1s 405us/step\n",
      "SNR: 14 BER: 0.05147 0.02072\n",
      "3125/3125 [==============================] - 1s 440us/step\n",
      "3125/3125 [==============================] - 1s 413us/step\n",
      "SNR: 16 BER: 0.03491333333333333 0.013465\n",
      "3125/3125 [==============================] - 1s 433us/step\n",
      "3125/3125 [==============================] - 1s 402us/step\n",
      "SNR: 18 BER: 0.022646666666666666 0.00874\n",
      "3125/3125 [==============================] - 1s 425us/step\n",
      "3125/3125 [==============================] - 1s 410us/step\n",
      "SNR: 20 BER: 0.014793333333333334 0.005655\n"
     ]
    }
   ],
   "source": [
    "import numpy as np\n",
    "\n",
    "def symbols_to_bits(symbols, M):\n",
    "    # Determine the number of bits required to represent the symbols (log2(M))\n",
    "    num_bits = int(np.log2(M))\n",
    "    \n",
    "    # Convert each symbol to its binary representation and pad with leading zeros\n",
    "    bit_array = np.array([np.binary_repr(symbol, width=num_bits) for symbol in symbols])\n",
    "    \n",
    "    # Flatten the array into a single array of bits (0 or 1)\n",
    "    bit_array_flat = np.array([int(bit) for bits in bit_array for bit in bits])\n",
    "    \n",
    "    return bit_array_flat\n",
    "\n",
    "# BER Calculation\n",
    "EbNodB_range = list(frange(0, 21, 2))\n",
    "ber1 = [None] * len(EbNodB_range)\n",
    "ber2 = [None] * len(EbNodB_range)\n",
    "num_bits1 = int(np.log2(M1))\n",
    "num_bits2 = int(np.log2(M2))\n",
    "\n",
    "for n in range(len(EbNodB_range)):\n",
    "    EbNo = 10.0**(-EbNodB_range[n] / 10.0)\n",
    "    nn = N\n",
    "\n",
    "    # Predict encoded signal\n",
    "    encoded_signal1, encoded_signal2 = encoder.predict([test_data1, test_data2])\n",
    "    \n",
    "    # Pass through Rayleigh channel\n",
    "    final_signal1 = reyleigh_single_tap(encoded_signal1, EbNo, nn, n_channel)\n",
    "    final_signal2 = reyleigh_single_tap(encoded_signal2, EbNo, nn, n_channel)\n",
    "\n",
    "    # Predict the output\n",
    "    pred_final_signal1, pred_final_signal2 = decoder.predict([final_signal1, final_signal2])\n",
    "\n",
    "    # Convert predictions to symbol indices (0 to M-1)\n",
    "    pred_output1 = np.argmax(pred_final_signal1, axis=1)\n",
    "    pred_output2 = np.argmax(pred_final_signal2, axis=1)\n",
    "\n",
    "    pred_output_bits1 = symbols_to_bits(pred_output1, M1)\n",
    "    pred_output_bits2 = symbols_to_bits(pred_output2, M2)\n",
    "\n",
    "    test_label_bits1 = symbols_to_bits(test_label1, M1)\n",
    "    test_label_bits2 = symbols_to_bits(test_label2, M2)\n",
    "\n",
    "    # Calculate bit errors\n",
    "    bit_errors1 = np.sum(pred_output_bits1 != test_label_bits1)\n",
    "    bit_errors2 = np.sum(pred_output_bits2 != test_label_bits2)\n",
    "\n",
    "    # Calculate BER\n",
    "    ber1[n] = bit_errors1 / (nn * num_bits1)\n",
    "    ber2[n] = bit_errors2 / (nn * num_bits2)\n",
    "\n",
    "    print('SNR:', EbNodB_range[n], 'BER:', ber1[n], ber2[n])"
   ]
  },
  {
   "cell_type": "code",
   "execution_count": 175,
   "metadata": {},
   "outputs": [
    {
     "name": "stdout",
     "output_type": "stream",
     "text": [
      "3125/3125 [==============================] - 1s 414us/step\n",
      "3125/3125 [==============================] - 1s 407us/step\n",
      "SNR: 0 BER: 0.2976933333333333 0.17127\n",
      "3125/3125 [==============================] - 1s 434us/step\n",
      "3125/3125 [==============================] - 1s 403us/step\n",
      "SNR: 2 BER: 0.24321666666666666 0.115115\n",
      "3125/3125 [==============================] - 1s 431us/step\n",
      "3125/3125 [==============================] - 1s 405us/step\n",
      "SNR: 4 BER: 0.18547666666666668 0.0677\n",
      "3125/3125 [==============================] - 1s 418us/step\n",
      "3125/3125 [==============================] - 1s 464us/step\n",
      "SNR: 6 BER: 0.12452333333333333 0.031205\n",
      "3125/3125 [==============================] - 1s 452us/step\n",
      "3125/3125 [==============================] - 1s 414us/step\n",
      "SNR: 8 BER: 0.07136666666666666 0.0105\n",
      "3125/3125 [==============================] - 1s 417us/step\n",
      "3125/3125 [==============================] - 1s 404us/step\n",
      "SNR: 10 BER: 0.032056666666666664 0.0019\n",
      "3125/3125 [==============================] - 1s 433us/step\n",
      "3125/3125 [==============================] - 1s 399us/step\n",
      "SNR: 12 BER: 0.010646666666666667 0.000225\n",
      "3125/3125 [==============================] - 1s 418us/step\n",
      "3125/3125 [==============================] - 1s 404us/step\n",
      "SNR: 14 BER: 0.0021233333333333334 5e-06\n",
      "3125/3125 [==============================] - 1s 428us/step\n",
      "3125/3125 [==============================] - 1s 400us/step\n",
      "SNR: 16 BER: 0.00019 0.0\n",
      "3125/3125 [==============================] - 1s 420us/step\n",
      "3125/3125 [==============================] - 1s 399us/step\n",
      "SNR: 18 BER: 1.6666666666666667e-05 0.0\n",
      "3125/3125 [==============================] - 1s 427us/step\n",
      "3125/3125 [==============================] - 1s 405us/step\n",
      "SNR: 20 BER: 0.0 0.0\n"
     ]
    }
   ],
   "source": [
    "import numpy as np\n",
    "\n",
    "def symbols_to_bits(symbols, M):\n",
    "    # Determine the number of bits required to represent the symbols (log2(M))\n",
    "    num_bits = int(np.log2(M))\n",
    "    \n",
    "    # Convert each symbol to its binary representation and pad with leading zeros\n",
    "    bit_array = np.array([np.binary_repr(symbol, width=num_bits) for symbol in symbols])\n",
    "    \n",
    "    # Flatten the array into a single array of bits (0 or 1)\n",
    "    bit_array_flat = np.array([int(bit) for bits in bit_array for bit in bits])\n",
    "    \n",
    "    return bit_array_flat\n",
    "\n",
    "# BER Calculation\n",
    "EbNodB_range = list(frange(0, 21, 2))\n",
    "ber1_awgn = [None] * len(EbNodB_range)\n",
    "ber2_awgn = [None] * len(EbNodB_range)\n",
    "num_bits1 = int(np.log2(M1))\n",
    "num_bits2 = int(np.log2(M2))\n",
    "\n",
    "for n in range(len(EbNodB_range)):\n",
    "    EbNo = 10.0**(-EbNodB_range[n] / 10.0)\n",
    "    nn = N\n",
    "\n",
    "    # Predict encoded signal\n",
    "    encoded_signal1, encoded_signal2 = encoder.predict([test_data1, test_data2])\n",
    "    \n",
    "    # Pass through Rayleigh channel\n",
    "    final_signal1 = awgn_single_tap(encoded_signal1, EbNo, nn, n_channel)\n",
    "    final_signal2 = awgn_single_tap(encoded_signal2, EbNo, nn, n_channel)\n",
    "\n",
    "    # Predict the output\n",
    "    pred_final_signal1, pred_final_signal2 = decoder.predict([final_signal1, final_signal2])\n",
    "\n",
    "    # Convert predictions to symbol indices (0 to M-1)\n",
    "    pred_output1 = np.argmax(pred_final_signal1, axis=1)\n",
    "    pred_output2 = np.argmax(pred_final_signal2, axis=1)\n",
    "\n",
    "    pred_output_bits1 = symbols_to_bits(pred_output1, M1)\n",
    "    pred_output_bits2 = symbols_to_bits(pred_output2, M2)\n",
    "\n",
    "    test_label_bits1 = symbols_to_bits(test_label1, M1)\n",
    "    test_label_bits2 = symbols_to_bits(test_label2, M2)\n",
    "\n",
    "    # Calculate bit errors\n",
    "    bit_errors1 = np.sum(pred_output_bits1 != test_label_bits1)\n",
    "    bit_errors2 = np.sum(pred_output_bits2 != test_label_bits2)\n",
    "\n",
    "    # Calculate BER\n",
    "    ber1_awgn[n] = bit_errors1 / (nn * num_bits1)\n",
    "    ber2_awgn[n] = bit_errors2 / (nn * num_bits2)\n",
    "\n",
    "    print('SNR:', EbNodB_range[n], 'BER:', ber1_awgn[n], ber2_awgn[n])"
   ]
  },
  {
   "cell_type": "markdown",
   "metadata": {},
   "source": [
    "## Constellation"
   ]
  },
  {
   "cell_type": "code",
   "execution_count": 176,
   "metadata": {},
   "outputs": [
    {
     "data": {
      "text/plain": [
       "<matplotlib.legend.Legend at 0x22a432f7220>"
      ]
     },
     "execution_count": 176,
     "metadata": {},
     "output_type": "execute_result"
    },
    {
     "data": {
      "image/png": "[encoded data removed]",
      "text/plain": [
       "<Figure size 1000x1000 with 1 Axes>"
      ]
     },
     "metadata": {},
     "output_type": "display_data"
    }
   ],
   "source": [
    "# ploting ber curve\n",
    "import matplotlib.pyplot as plt\n",
    "from scipy import interpolate\n",
    "plt.figure(figsize=(10, 10))\n",
    "plt.plot(EbNodB_range, ber1_awgn, 'bo-',label=f'AE1 with AWGN {M1}-QAM')\n",
    "plt.plot(EbNodB_range, ber2_awgn, 'ro-',label=f'AE2 with AWGN {M2}-QAM')\n",
    "plt.plot(EbNodB_range, ber1, 'b',label=f'AE1 with Fading {M1}-QAM')\n",
    "plt.plot(EbNodB_range, ber2, 'r',label=f'AE2 with Fading {M2}-QAM')\n",
    "plt.plot(EbNodB_range, ber1_conv, 'b--',label=f'CC AE1 with Fading {M1}-QAM')\n",
    "plt.plot(EbNodB_range, ber2_conv, 'r--',label=f'CC AE2 with Fading {M2}-QAM')\n",
    "plt.yscale('log')\n",
    "plt.xlabel('SNR Range')\n",
    "plt.ylabel('Bit Error Rate')\n",
    "plt.ylim([10**-6, 1])\n",
    "plt.grid()\n",
    "plt.legend(loc='upper right',ncol = 1)"
   ]
  }
 ],
 "metadata": {
  "kernelspec": {
   "display_name": "zero_jelly",
   "language": "python",
   "name": "python3"
  },
  "language_info": {
   "codemirror_mode": {
    "name": "ipython",
    "version": 3
   },
   "file_extension": ".py",
   "mimetype": "text/x-python",
   "name": "python",
   "nbconvert_exporter": "python",
   "pygments_lexer": "ipython3",
   "version": "3.8.18"
  }
 },
 "nbformat": 4,
 "nbformat_minor": 2
}
